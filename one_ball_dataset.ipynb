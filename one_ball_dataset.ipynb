{
 "cells": [
  {
   "cell_type": "code",
   "execution_count": 34,
   "metadata": {},
   "outputs": [],
   "source": [
    "import numpy as np\n",
    "import matplotlib.pyplot as plt\n",
    "import cv2"
   ]
  },
  {
   "cell_type": "markdown",
   "metadata": {},
   "source": [
    "# Make dataset"
   ]
  },
  {
   "cell_type": "code",
   "execution_count": 35,
   "metadata": {},
   "outputs": [],
   "source": [
    "image_size = (32, 32)\n",
    "dataset_size = 4096\n",
    "radius = 5\n",
    "images = []\n",
    "centers = []\n",
    "for i in range(dataset_size):\n",
    "    center = np.random.random() * image_size[0], np.random.random() * image_size[1] \n",
    "    image = np.ones((image_size[0], image_size[1], 3), dtype=np.uint8) * 255\n",
    "    centers.append(center)\n",
    "    cv2.circle(image, (int(center[0]), int(center[1])), int(radius),\n",
    "                       (255, 0, 0), thickness=-1)\n",
    "    image = cv2.blur(image, (int(radius // 2), int(radius // 2)))\n",
    "    images.append(image)"
   ]
  },
  {
   "cell_type": "code",
   "execution_count": 36,
   "metadata": {},
   "outputs": [
    {
     "data": {
      "image/png": "[encoded data removed]",
      "text/plain": [
       "<Figure size 432x288 with 1 Axes>"
      ]
     },
     "metadata": {
      "needs_background": "light"
     },
     "output_type": "display_data"
    }
   ],
   "source": [
    "plt.imshow(images[0], origin=\"low\")\n",
    "plt.title(\"Center is ({:.1f}, {:.1f})\".format(centers[0][0], centers[0][1]));"
   ]
  },
  {
   "cell_type": "code",
   "execution_count": 37,
   "metadata": {},
   "outputs": [],
   "source": [
    "data = {\n",
    "    \"images\": images,\n",
    "    \"centers\": centers\n",
    "}\n",
    "np.savez(\"ball_dataset.npz\", data)"
   ]
  }
 ],
 "metadata": {
  "kernelspec": {
   "display_name": "Python 3",
   "language": "python",
   "name": "python3"
  },
  "language_info": {
   "codemirror_mode": {
    "name": "ipython",
    "version": 3
   },
   "file_extension": ".py",
   "mimetype": "text/x-python",
   "name": "python",
   "nbconvert_exporter": "python",
   "pygments_lexer": "ipython3",
   "version": "3.6.9"
  }
 },
 "nbformat": 4,
 "nbformat_minor": 2
}
